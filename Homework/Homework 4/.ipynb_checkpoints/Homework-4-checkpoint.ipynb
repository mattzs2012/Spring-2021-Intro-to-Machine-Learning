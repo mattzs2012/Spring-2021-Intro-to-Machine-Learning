{
 "cells": [
  {
   "cell_type": "markdown",
   "metadata": {},
   "source": [
    "# MTH 4920/5050 Homework 4\n",
    "\n",
    "## Advanced Classification Methods\n",
    "\n",
    "**Deadline**: April 15\n",
    "\n",
    "**Points**: 60\n",
    "\n",
    "### Instructions\n",
    "\n",
    "Submit **one** Python notebook or PDF file for grading. If you submit a PDF, also submit code files.\n",
    "* Your file should include **text explanations** of your work, **well-commented code**, and the **outputs** from your code.\n",
    "* Any language I can easily run is acceptable, but I recommend Python.\n",
    "* Explain in words what you're doing and why you're doing it.\n",
    "* Follow proper procedures for training, tuning, and testing, crossvalidation, and other good ML practices.\n",
    "\n",
    "### Problems\n",
    "\n",
    "For this assignment, you will design and carry out experiments to try to answer a classification or regression problem using a [Spotify dataset](https://www.kaggle.com/yamaerenay/spotify-dataset-19212020-160k-tracks?select=data.csv) contining information on 175,000 songs released between 1921 and 2021.\n",
    "\n",
    "Note the dataset contains artists, genres, popularity, year, and audio features of each song.  \n",
    " \n",
    "1. **[5 points]** Choose a problem to study.\n",
    "\n",
    "2. **[10 points]** Prepare the data in an appropriate way.\n",
    "\n",
    "3. **[10 points]** Train a decision tree classifier to maximize performance on test data. (Tune hyperparameters.)\n",
    "\n",
    "4. **[10 points]** Use at least 1 bagged and at least 1 boosted classifier to improve performance. (Tune hyperparameters.)\n",
    "\n",
    "5. **[10 points]** Select the smallest set of features that allows your model to work well.\n",
    "\n",
    "6. **[10 points]** Use expainable ML methods to explain how your model makes its choices. Plot your decision tree, use feature importance measures for bagged or boosted methods, and interpret each.\n",
    "\n",
    "7. **[5 points]** Write conclusions."
   ]
  }
 ],
 "metadata": {
  "kernelspec": {
   "display_name": "Python 3.8 (DL)",
   "language": "python",
   "name": "dl"
  },
  "language_info": {
   "codemirror_mode": {
    "name": "ipython",
    "version": 3
   },
   "file_extension": ".py",
   "mimetype": "text/x-python",
   "name": "python",
   "nbconvert_exporter": "python",
   "pygments_lexer": "ipython3",
   "version": "3.8.5"
  }
 },
 "nbformat": 4,
 "nbformat_minor": 4
}
